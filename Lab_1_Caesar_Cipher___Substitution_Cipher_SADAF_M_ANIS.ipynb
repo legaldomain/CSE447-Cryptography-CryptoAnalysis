{
  "nbformat": 4,
  "nbformat_minor": 0,
  "metadata": {
    "colab": {
      "provenance": []
    },
    "kernelspec": {
      "name": "python3",
      "display_name": "Python 3"
    },
    "language_info": {
      "name": "python"
    }
  },
  "cells": [
    {
      "cell_type": "markdown",
      "source": [
        "# Caesar Cipher"
      ],
      "metadata": {
        "id": "1wOocgMlVig-"
      }
    },
    {
      "cell_type": "code",
      "source": [
        "def decrypt_shift_cipher(ciphertext, key):\n",
        "  PT=\" \"\n",
        "  for i in ciphertext:\n",
        "    if i != \" \":\n",
        "      temp = (ord(i)-key+65)%26\n",
        "      PT +=chr(temp+65)\n",
        "    else: PT += \" \"\n",
        "  return PT"
      ],
      "metadata": {
        "id": "DeTQVJUm2hm0"
      },
      "execution_count": null,
      "outputs": []
    },
    {
      "cell_type": "code",
      "execution_count": null,
      "metadata": {
        "id": "mCabVhcQz0bV"
      },
      "outputs": [],
      "source": [
        "def encrypt_shift_cipher(plaintext, key):\n",
        "  #to do\n",
        "  CT = ''\n",
        "  for j in plaintext:\n",
        "    if j !=' ':\n",
        "      temp = (ord(j)+key+65)%26\n",
        "      CT += chr(temp+65)\n",
        "    else: CT += ' '\n",
        "  return CT"
      ]
    },
    {
      "cell_type": "code",
      "source": [
        "#Decrypt the following text and find out the value of the key using the decrypt_shift_cipher() method.\n",
        "ciphertext = \"KYV HLZTB SIFNE WFO\"\n",
        "for i in range(26):\n",
        "  print(decrypt_shift_cipher(ciphertext, i))"
      ],
      "metadata": {
        "id": "dBQ7hHE_20uH",
        "collapsed": true,
        "colab": {
          "base_uri": "https://localhost:8080/"
        },
        "outputId": "952877d3-8ec7-435d-bf5f-65d35e6b67ea"
      },
      "execution_count": null,
      "outputs": [
        {
          "output_type": "stream",
          "name": "stdout",
          "text": [
            " KYV HLZTB SIFNE WFO\n",
            " JXU GKYSA RHEMD VEN\n",
            " IWT FJXRZ QGDLC UDM\n",
            " HVS EIWQY PFCKB TCL\n",
            " GUR DHVPX OEBJA SBK\n",
            " FTQ CGUOW NDAIZ RAJ\n",
            " ESP BFTNV MCZHY QZI\n",
            " DRO AESMU LBYGX PYH\n",
            " CQN ZDRLT KAXFW OXG\n",
            " BPM YCQKS JZWEV NWF\n",
            " AOL XBPJR IYVDU MVE\n",
            " ZNK WAOIQ HXUCT LUD\n",
            " YMJ VZNHP GWTBS KTC\n",
            " XLI UYMGO FVSAR JSB\n",
            " WKH TXLFN EURZQ IRA\n",
            " VJG SWKEM DTQYP HQZ\n",
            " UIF RVJDL CSPXO GPY\n",
            " THE QUICK BROWN FOX\n",
            " SGD PTHBJ AQNVM ENW\n",
            " RFC OSGAI ZPMUL DMV\n",
            " QEB NRFZH YOLTK CLU\n",
            " PDA MQEYG XNKSJ BKT\n",
            " OCZ LPDXF WMJRI AJS\n",
            " NBY KOCWE VLIQH ZIR\n",
            " MAX JNBVD UKHPG YHQ\n",
            " LZW IMAUC TJGOF XGP\n"
          ]
        }
      ]
    },
    {
      "cell_type": "code",
      "source": [
        "#Encrypt the following plaintext, using the summation of last 2 digits of your ID as the key\n",
        "plaintext = \"I am Batman\"\n",
        "\n",
        "id_last_two_digits = 10\n",
        "#key = sum(int(digit) for digit in str(id_last_two_digits))  # Summation of the last two digits of the ID\n",
        "plaintext = \"I am Batman\"\n",
        "encrypted_text = encrypt_shift_cipher(plaintext, id_last_two_digits)\n",
        "print(f\"Encrypted text: {encrypted_text}\")"
      ],
      "metadata": {
        "id": "YWqRQMF3455I",
        "colab": {
          "base_uri": "https://localhost:8080/"
        },
        "outputId": "bb3315e3-70f4-4608-fe7b-ecdbc6ff4ad5"
      },
      "execution_count": null,
      "outputs": [
        {
          "output_type": "stream",
          "name": "stdout",
          "text": [
            "Encrypted text: S QC LQJCQD\n"
          ]
        }
      ]
    },
    {
      "cell_type": "markdown",
      "source": [
        "# Substitution Cipher"
      ],
      "metadata": {
        "id": "RqFWriJBVoDO"
      }
    },
    {
      "cell_type": "code",
      "source": [
        "import pandas as pd\n",
        "def frequency_table(text):\n",
        "  table = []\n",
        "  count = 0\n",
        "  for i in text:\n",
        "    if i in 'qwertyuiopasdfghjklzxcvbnm':\n",
        "      count += 1\n",
        "  for i in range(97,123):\n",
        "    table.append(text.count(chr(i))/count)\n",
        "  index = [i[0] for i in sorted(enumerate(table), key=lambda x:x[1])][::-1]\n",
        "  for i in index:\n",
        "    print(chr(97+i)+\":\"+str(table[i]))"
      ],
      "metadata": {
        "id": "ZwImnQeYVtGE"
      },
      "execution_count": null,
      "outputs": []
    },
    {
      "cell_type": "code",
      "source": [
        "ciphertext = \"awbix ildxz kolf a dkzeplld afu zbjjbfm lf bj bz a rwkx iajxpobwwap zdlgbfm a ellgae. jex iajxpobwwap ykxzjblfz awbix afu zex audbjz jl exp ikppxfj buxfjbjt ipbzbz, ildolkfuxu rt exp bfarbwbjt jl pxdxdrxp a olxd. rxnlpx ipahwbfm ahat, jex iajxpobwwap jxwwz awbix jeaj lfx zbux ln jex dkzeplld hbww dagx exp jawwxp afu jex ljexp zbux hbww dagx exp zelpjxp. zex rpxagz lnn jhl obxixz npld jex dkzeplld. lfx zbux dagxz exp zepbfg zdawwxp jeaf xcxp, hebwx afljexp iakzxz exp fxig jl mplh ebme bfjl jex jpxxz, hexpx a obmxlf dbzjagxz exp nlp a zxpoxfj. hbje zldx xnnlpj, awbix rpbfmz expzxwn raig jl exp kzkaw exbmej. zex zjkdrwxz kolf a zdaww xzjajx afu kzxz jex dkzeplld jl pxaie a dlpx aooplopbajx exbmej.\"\n",
        "frequency_table(ciphertext)"
      ],
      "metadata": {
        "id": "2R-LMVH-brn3",
        "colab": {
          "base_uri": "https://localhost:8080/"
        },
        "outputId": "fe114a8e-9b31-41ce-bf56-fcef2e8acbb9"
      },
      "execution_count": null,
      "outputs": [
        {
          "output_type": "stream",
          "name": "stdout",
          "text": [
            "x:0.140597539543058\n",
            "p:0.08260105448154657\n",
            "a:0.08084358523725835\n",
            "j:0.07908611599297012\n",
            "z:0.07381370826010544\n",
            "l:0.07381370826010544\n",
            "e:0.07205623901581722\n",
            "b:0.06854130052724078\n",
            "w:0.050966608084358524\n",
            "f:0.043936731107205626\n",
            "d:0.043936731107205626\n",
            "i:0.029876977152899824\n",
            "k:0.026362038664323375\n",
            "o:0.022847100175746926\n",
            "u:0.019332161687170474\n",
            "g:0.01757469244288225\n",
            "r:0.015817223198594025\n",
            "n:0.015817223198594025\n",
            "m:0.015817223198594025\n",
            "h:0.015817223198594025\n",
            "t:0.007029876977152899\n",
            "y:0.0017574692442882249\n",
            "c:0.0017574692442882249\n",
            "v:0.0\n",
            "s:0.0\n",
            "q:0.0\n"
          ]
        }
      ]
    },
    {
      "cell_type": "code",
      "source": [
        "ciphertext = \"awbix ildxz kolf a dkzeplld afu zbjjbfm lf bj bz a rwkx iajxpobwwap zdlgbfm a ellgae.\\n jex iajxpobwwap ykxzjblfz awbix afu zex audbjz jl exp ikppxfj buxfjbjt ipbzbz, ildolkfuxu rt exp bfarbwbjt jl pxdxdrxp a olxd.\\n rxnlpx ipahwbfm ahat, jex iajxpobwwap jxwwz awbix jeaj lfx zbux ln jex dkzeplld hbww dagx exp jawwxp afu jex ljexp zbux hbww dagx exp zelpjxp.\\n zex rpxagz lnn jhl obxixz npld jex dkzeplld.\\n lfx zbux dagxz exp zepbfg zdawwxp jeaf xcxp, hebwx afljexp iakzxz exp fxig jl mplh ebme bfjl jex jpxxz, hexpx a obmxlf dbzjagxz exp nlp a zxpoxfj.\\n hbje zldx xnnlpj, awbix rpbfmz expzxwn raig jl exp kzkaw exbmej.\\n zex zjkdrwxz kolf a zdaww xzjajx afu kzxz jex dkzeplld jl pxaie a dlpx aooplopbajx exbmej.\"\n",
        "ciphertext = ciphertext.replace(\"x\",\"E\")\n",
        "ciphertext = ciphertext.replace(\"a\",\"A\")\n",
        "ciphertext = ciphertext.replace(\"j\",\"T\")\n",
        "ciphertext = ciphertext.replace(\"e\",\"H\")\n",
        "ciphertext = ciphertext.replace(\"b\",\"I\")\n",
        "ciphertext = ciphertext.replace(\"z\",\"S\")\n",
        "ciphertext = ciphertext.replace(\"p\",\"R\")\n",
        "ciphertext = ciphertext.replace(\"f\",\"N\")\n",
        "ciphertext = ciphertext.replace(\"m\",\"G\")\n",
        "ciphertext = ciphertext.replace(\"o\",\"P\")\n",
        "ciphertext = ciphertext.replace(\"l\",\"O\")\n",
        "ciphertext = ciphertext.replace(\"h\",\"W\")\n",
        "ciphertext = ciphertext.replace(\"d\",\"M\")\n",
        "ciphertext = ciphertext.replace(\"r\",\"B\")\n",
        "ciphertext = ciphertext.replace(\"u\",\"D\")\n",
        "ciphertext = ciphertext.replace(\"w\",\"L\")\n",
        "ciphertext = ciphertext.replace(\"g\",\"K\")\n",
        "ciphertext = ciphertext.replace(\"k\",\"U\")\n",
        "ciphertext = ciphertext.replace(\"t\",\"Y\")\n",
        "ciphertext = ciphertext.replace(\"i\",\"C\")\n",
        "ciphertext = ciphertext.replace(\"n\",\"F\")\n",
        "ciphertext = ciphertext.replace(\"c\",\"V\")\n",
        "ciphertext = ciphertext.replace(\"y\",\"Q\")\n",
        "\n",
        "print(ciphertext)\n"
      ],
      "metadata": {
        "id": "B2wtNETpfajr",
        "colab": {
          "base_uri": "https://localhost:8080/"
        },
        "outputId": "d0c74acf-4fd6-427e-dbdd-ede6f92d38ca"
      },
      "execution_count": null,
      "outputs": [
        {
          "output_type": "stream",
          "name": "stdout",
          "text": [
            "ALICE COMES UPON A MUSHROOM AND SITTING ON IT IS A BLUE CATERPILLAR SMOKING A HOOKAH.\n",
            " THE CATERPILLAR QUESTIONS ALICE AND SHE ADMITS TO HER CURRENT IDENTITY CRISIS, COMPOUNDED BY HER INABILITY TO REMEMBER A POEM.\n",
            " BEFORE CRAWLING AWAY, THE CATERPILLAR TELLS ALICE THAT ONE SIDE OF THE MUSHROOM WILL MAKE HER TALLER AND THE OTHER SIDE WILL MAKE HER SHORTER.\n",
            " SHE BREAKS OFF TWO PIECES FROM THE MUSHROOM.\n",
            " ONE SIDE MAKES HER SHRINK SMALLER THAN EVER, WHILE ANOTHER CAUSES HER NECK TO GROW HIGH INTO THE TREES, WHERE A PIGEON MISTAKES HER FOR A SERPENT.\n",
            " WITH SOME EFFORT, ALICE BRINGS HERSELF BACK TO HER USUAL HEIGHT.\n",
            " SHE STUMBLES UPON A SMALL ESTATE AND USES THE MUSHROOM TO REACH A MORE APPROPRIATE HEIGHT.\n"
          ]
        }
      ]
    }
  ]
}