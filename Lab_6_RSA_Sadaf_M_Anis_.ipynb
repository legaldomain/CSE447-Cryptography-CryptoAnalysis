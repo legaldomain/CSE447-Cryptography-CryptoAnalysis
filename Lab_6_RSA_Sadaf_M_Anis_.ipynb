{
  "cells": [
    {
      "cell_type": "markdown",
      "metadata": {
        "id": "SN8H1wkXPXZ9"
      },
      "source": [
        "# RSA"
      ]
    },
    {
      "cell_type": "code",
      "execution_count": null,
      "metadata": {
        "colab": {
          "base_uri": "https://localhost:8080/"
        },
        "id": "cdtAO8nJT2kf",
        "outputId": "204fad3f-0b84-459c-f706-9e0a29d66985"
      },
      "outputs": [
        {
          "output_type": "stream",
          "name": "stdout",
          "text": [
            "91694925243764\n"
          ]
        }
      ],
      "source": [
        "m = int(\"Secret\".encode(\"utf-8\").hex(),16)\n",
        "print(m)"
      ]
    },
    {
      "cell_type": "code",
      "source": [
        "e = 11"
      ],
      "metadata": {
        "id": "UVG_T8KYgQOt"
      },
      "execution_count": null,
      "outputs": []
    },
    {
      "cell_type": "code",
      "source": [
        "\n",
        "from sympy import randprime\n",
        "p = randprime(2**127, 2**128)\n",
        "q = randprime(2**127, 2**128)\n",
        "\n",
        "\n",
        "n = p * q\n",
        "phi_n = (p - 1) * (q - 1)\n",
        "\n",
        "# Ensure e is coprime with phi_n\n",
        "assert phi_n % e != 0, \"Choose a different e\"\n",
        "\n",
        "\n",
        "def gcd(a, b):\n",
        "    while b != 0:\n",
        "        a, b = b, a % b\n",
        "    return a\n",
        "\n",
        "\n",
        "\n",
        "def mod_inverse(e, phi_n):\n",
        "    t, new_t = 0, 1\n",
        "    r, new_r = phi_n, e\n",
        "\n",
        "    while new_r != 0:\n",
        "        quotient = r // new_r\n",
        "        t, new_t = new_t, t - quotient * new_t\n",
        "        r, new_r = new_r, r - quotient * new_r\n",
        "\n",
        "    if r != 1:\n",
        "        raise ValueError(f\"{e} is not invertible modulo {phi_n}\")\n",
        "    if t < 0:\n",
        "        t += phi_n\n",
        "\n",
        "    return t\n",
        "\n",
        "# Check if e and phi(n) are coprime\n",
        "if gcd(e, phi_n) != 1:\n",
        "    print(f\"e = {e} and phi(n) = {phi_n} are not coprime. Choose different values.\")\n",
        "else:\n",
        "    # Calculate d\n",
        "    d = mod_inverse(e, phi_n)\n",
        "    # Print the results\n",
        "    print(f\"p = {p}\")\n",
        "    print(f\"q = {q}\")\n",
        "    print(f\"n = {n}\")\n",
        "    print(f\"phi(n) = {phi_n}\")\n",
        "    print(f\"e = {e}\")\n",
        "    print(f\"The value of d is: {d}\")"
      ],
      "metadata": {
        "id": "u1fe5OEdFGGC",
        "colab": {
          "base_uri": "https://localhost:8080/"
        },
        "outputId": "030c5eb4-b79d-4b7a-e8b7-290c3ece2e6d"
      },
      "execution_count": null,
      "outputs": [
        {
          "output_type": "stream",
          "name": "stdout",
          "text": [
            "p = 176828502031314442708701084931030337479\n",
            "q = 233473488310541331010067153559820236659\n",
            "n = 41284767201978626545297360650217399661750602753404259768622189507202417442661\n",
            "phi(n) = 41284767201978626545297360650217399661340300763062403994903421268711566868524\n",
            "e = 11\n",
            "The value of d is: 26272124583077307801552865868320163420852918667403347996756722625543724370879\n"
          ]
        }
      ]
    },
    {
      "cell_type": "code",
      "execution_count": null,
      "metadata": {
        "colab": {
          "base_uri": "https://localhost:8080/"
        },
        "id": "Flep_Z78Pak0",
        "outputId": "b808bba3-5066-4529-a9fd-9bc3ed9f432e"
      },
      "outputs": [
        {
          "output_type": "stream",
          "name": "stdout",
          "text": [
            "Encrypted message: 28655948976017208852748904331829808454665866079434665139724709263354675250306\n"
          ]
        }
      ],
      "source": [
        "#Perform encryption here and generate ciphertext c and private key d\n",
        "\n",
        "def encrypt(m, e, n):\n",
        "    return pow(m, e, n)\n",
        "\n",
        "\n",
        "m = 91694925243764\n",
        "c = encrypt(m, e, n)\n",
        "print(f\"Encrypted message: {c}\")\n",
        "\n"
      ]
    },
    {
      "cell_type": "code",
      "execution_count": null,
      "metadata": {
        "id": "CUApcT0PZ4es",
        "colab": {
          "base_uri": "https://localhost:8080/"
        },
        "outputId": "cf1d3c8b-3730-40c2-877d-0f4398281089"
      },
      "outputs": [
        {
          "output_type": "stream",
          "name": "stdout",
          "text": [
            "Decrypted message: 91694925243764\n"
          ]
        }
      ],
      "source": [
        "#perform decryption here\n",
        "def decrypt(c, d, n):\n",
        "    return pow(c, d, n)\n",
        "\n",
        "# Decrypt the message\n",
        "decrypted_m = decrypt(c, d, n)\n",
        "print(f\"Decrypted message: {decrypted_m}\")"
      ]
    },
    {
      "cell_type": "code",
      "source": [
        "m = 91694925243764\n",
        "print(bytes.fromhex(hex(m)[2:]).decode('utf-8'))"
      ],
      "metadata": {
        "colab": {
          "base_uri": "https://localhost:8080/"
        },
        "id": "sHDbhVSGFN6K",
        "outputId": "ba5c9965-0d2b-401f-b3e2-9484c6509148"
      },
      "execution_count": null,
      "outputs": [
        {
          "output_type": "stream",
          "name": "stdout",
          "text": [
            "Secret\n"
          ]
        }
      ]
    }
  ],
  "metadata": {
    "colab": {
      "provenance": []
    },
    "kernelspec": {
      "display_name": "Python 3",
      "name": "python3"
    },
    "language_info": {
      "name": "python"
    }
  },
  "nbformat": 4,
  "nbformat_minor": 0
}