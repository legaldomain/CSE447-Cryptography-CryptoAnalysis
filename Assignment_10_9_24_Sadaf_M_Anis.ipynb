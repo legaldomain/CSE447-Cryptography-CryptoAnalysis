{
  "nbformat": 4,
  "nbformat_minor": 0,
  "metadata": {
    "colab": {
      "provenance": []
    },
    "kernelspec": {
      "name": "python3",
      "display_name": "Python 3"
    },
    "language_info": {
      "name": "python"
    }
  },
  "cells": [
    {
      "cell_type": "markdown",
      "source": [
        "###Task 1\n",
        "\n",
        "You are given the following code that encrypts a string using RSA cryptosystem.\n",
        "\n",
        "```\n",
        "#!/usr/bin/env python3\n",
        "from Crypto.Util.number import getPrime, inverse, bytes_to_long, long_to_bytes, GCD\n",
        "\n",
        "e = 0x10001\n",
        "\n",
        "# n will be 8 * (100 + 100) = 1600 bits strong (I think?) which is pretty good\n",
        "p = getPrime(100)\n",
        "q = getPrime(100)\n",
        "phi = (p - 1) * (q - 1)\n",
        "d = inverse(e, phi)\n",
        "\n",
        "n = p * q\n",
        "\n",
        "FLAG = b\"crypto{???????????????}\"\n",
        "pt = bytes_to_long(FLAG)\n",
        "ct = pow(pt, e, n)\n",
        "\n",
        "print(f\"n = {n}\")\n",
        "print(f\"e = {e}\")\n",
        "print(f\"ct = {ct}\")\n",
        "```\n",
        "You are also given the following output:\n",
        "\n",
        "\n",
        "```\n",
        "n = 984994081290620368062168960884976209711107645166770780785733\n",
        "e = 65537\n",
        "ct = 948553474947320504624302879933619818331484350431616834086273\n",
        "```\n",
        "Now, using the decryption method of RSA, calculate the plaintext.\n",
        "\n",
        "Hint: You don't need to compute factor if others already calculated it earlier. You just need to find it."
      ],
      "metadata": {
        "id": "xOqmJS5MzRHI"
      }
    },
    {
      "cell_type": "code",
      "source": [
        "!pip install pycryptodome"
      ],
      "metadata": {
        "colab": {
          "base_uri": "https://localhost:8080/"
        },
        "id": "Y9QKcxQNa-Wk",
        "outputId": "3f6b9039-cee3-41c3-8e6f-bc4a1465b260"
      },
      "execution_count": null,
      "outputs": [
        {
          "output_type": "stream",
          "name": "stdout",
          "text": [
            "Collecting pycryptodome\n",
            "  Downloading pycryptodome-3.20.0-cp35-abi3-manylinux_2_17_x86_64.manylinux2014_x86_64.whl.metadata (3.4 kB)\n",
            "Downloading pycryptodome-3.20.0-cp35-abi3-manylinux_2_17_x86_64.manylinux2014_x86_64.whl (2.1 MB)\n",
            "\u001b[2K   \u001b[90m━━━━━━━━━━━━━━━━━━━━━━━━━━━━━━━━━━━━━━━━\u001b[0m \u001b[32m2.1/2.1 MB\u001b[0m \u001b[31m16.2 MB/s\u001b[0m eta \u001b[36m0:00:00\u001b[0m\n",
            "\u001b[?25hInstalling collected packages: pycryptodome\n",
            "Successfully installed pycryptodome-3.20.0\n"
          ]
        }
      ]
    },
    {
      "cell_type": "code",
      "execution_count": null,
      "metadata": {
        "id": "gOTM3D7ZzQEC",
        "colab": {
          "base_uri": "https://localhost:8080/"
        },
        "outputId": "e20b41ae-6a0f-49f2-aa27-ce5006854c9d"
      },
      "outputs": [
        {
          "output_type": "stream",
          "name": "stdout",
          "text": [
            "p = 773545267545166976840681674163\n",
            "q = 738707037637986048480973122161\n",
            "n = 571423333067173649694525804099908236893412322525714596426243\n",
            "phi(n) = 571423333067173649694525804098395984588229169500392941629920\n",
            "e = 65537\n",
            "The value of d is: 278723311841529823760393462923439041142132259050903476892193\n"
          ]
        }
      ],
      "source": [
        "# Your code here\n",
        "from Crypto.Util.number import getPrime, inverse, bytes_to_long, long_to_bytes, GCD\n",
        "e = 0x10001\n",
        "\n",
        "p = getPrime(100)\n",
        "q = getPrime(100)\n",
        "phi_n = (p - 1) * (q - 1)\n",
        "d = inverse(e, phi_n)\n",
        "n = p * q\n",
        "\n",
        "# Ensure e is coprime with phi_n\n",
        "assert phi_n % e != 0, \"Choose a different e\"\n",
        "\n",
        "\n",
        "def gcd(a, b):\n",
        "    while b != 0:\n",
        "        a, b = b, a % b\n",
        "    return a\n",
        "\n",
        "# Function to calculate the modular inverse using the Extended Euclidean Algorithm\n",
        "def mod_inverse(e, phi_n):\n",
        "    t, new_t = 0, 1\n",
        "    r, new_r = phi_n, e\n",
        "\n",
        "    while new_r != 0:\n",
        "        quotient = r // new_r\n",
        "        t, new_t = new_t, t - quotient * new_t\n",
        "        r, new_r = new_r, r - quotient * new_r\n",
        "\n",
        "    if r != 1:\n",
        "        raise ValueError(f\"{e} is not invertible modulo {phi_n}\")\n",
        "    if t < 0:\n",
        "        t += phi_n\n",
        "\n",
        "    return t\n",
        "\n",
        "# Check if e and phi(n) are coprime\n",
        "if gcd(e, phi_n) != 1:\n",
        "    print(f\"e = {e} and phi(n) = {phi_n} are not coprime. Choose different values.\")\n",
        "else:\n",
        "    # Calculate d\n",
        "    d = mod_inverse(e, phi_n)\n",
        "    # Print the results\n",
        "    print(f\"p = {p}\")\n",
        "    print(f\"q = {q}\")\n",
        "    print(f\"n = {n}\")\n",
        "    print(f\"phi(n) = {phi_n}\")\n",
        "    print(f\"e = {e}\")\n",
        "    print(f\"The value of d is: {d}\")\n",
        "\n"
      ]
    },
    {
      "cell_type": "code",
      "source": [
        "from Crypto.Util.number import inverse, long_to_bytes\n",
        "\n",
        "# Given values\n",
        "n = 984994081290620368062168960884976209711107645166770780785733\n",
        "e = 65537\n",
        "ct = 948553474947320504624302879933619818331484350431616834086273\n",
        "\n",
        "# p and q from FactorDB\n",
        "p = 848445505077945374527983649411\n",
        "q = 1160939713152385063689030212503\n",
        "\n",
        "# Compute phi\n",
        "phi = (p - 1) * (q - 1)\n",
        "\n",
        "# Compute the private key d\n",
        "d = inverse(e, phi)\n",
        "\n",
        "# Decrypt the ciphertext\n",
        "print(\"value of d:\",d)\n",
        "pt = pow(ct, d, n)\n",
        "FLAG = long_to_bytes(pt)\n",
        "print(f\"Decrypted: {FLAG.decode()}\")\n",
        "print(\"value of pt:\",pt)\n"
      ],
      "metadata": {
        "colab": {
          "base_uri": "https://localhost:8080/"
        },
        "id": "7jGheYePbf_j",
        "outputId": "1e209b92-767f-48a9-f5c7-85076606f518"
      },
      "execution_count": null,
      "outputs": [
        {
          "output_type": "stream",
          "name": "stdout",
          "text": [
            "value of d: 95678354540123735646791394250285591417392571914521160264233\n",
            "Decrypted: crypto{N33d_b1g_pR1m35}\n",
            "value of pt: 9525146106593233618825000042088863551831280763610019197\n"
          ]
        }
      ]
    },
    {
      "cell_type": "markdown",
      "source": [
        "###Task 2\n",
        "#Implementation of AES decryption\n",
        "Given the following key and ciphertext, your task is to use AES decryption and find the plaintext."
      ],
      "metadata": {
        "id": "ZfCsDWLk0ivx"
      }
    },
    {
      "cell_type": "code",
      "source": [
        "# Given inputs\n",
        "N_ROUNDS = 10\n",
        "\n",
        "key        = b'\\xc3,\\\\\\xa6\\xb5\\x80^\\x0c\\xdb\\x8d\\xa5z*\\xb6\\xfe\\\\'\n",
        "ciphertext = b'\\xd1O\\x14j\\xa4+O\\xb6\\xa1\\xc4\\x08B)\\x8f\\x12\\xdd'"
      ],
      "metadata": {
        "id": "ZG1-hosNDm-2"
      },
      "execution_count": null,
      "outputs": []
    },
    {
      "cell_type": "code",
      "source": [
        "# Your code here\n",
        "from Crypto.Cipher import AES\n",
        "\n",
        "# Given inputs\n",
        "key = b'\\xc3,\\\\\\xa6\\xb5\\x80^\\x0c\\xdb\\x8d\\xa5z*\\xb6\\xfe\\\\'\n",
        "ciphertext = b'\\xd1O\\x14j\\xa4+O\\xb6\\xa1\\xc4\\x08B)\\x8f\\x12\\xdd'\n",
        "\n",
        "\n",
        "cipher = AES.new(key, AES.MODE_ECB)\n",
        "# Decrypt the ciphertext\n",
        "plaintext = cipher.decrypt(ciphertext)\n",
        "# Output the plaintext\n",
        "print(f\"Decrypted plaintext: {plaintext}\")\n"
      ],
      "metadata": {
        "id": "9dXDgvFTD7Ww",
        "colab": {
          "base_uri": "https://localhost:8080/"
        },
        "outputId": "7173ff13-4aea-4c76-892b-cc5761ce7b31"
      },
      "execution_count": null,
      "outputs": [
        {
          "output_type": "stream",
          "name": "stdout",
          "text": [
            "Decrypted plaintext: b'crypto{MYAES128}'\n"
          ]
        }
      ]
    },
    {
      "cell_type": "code",
      "source": [],
      "metadata": {
        "id": "UWlgB_UZi7Qc"
      },
      "execution_count": null,
      "outputs": []
    }
  ]
}