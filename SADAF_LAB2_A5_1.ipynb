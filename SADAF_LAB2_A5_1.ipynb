{
  "nbformat": 4,
  "nbformat_minor": 0,
  "metadata": {
    "colab": {
      "provenance": []
    },
    "kernelspec": {
      "name": "python3",
      "display_name": "Python 3"
    },
    "language_info": {
      "name": "python"
    }
  },
  "cells": [
    {
      "cell_type": "code",
      "execution_count": null,
      "metadata": {
        "colab": {
          "base_uri": "https://localhost:8080/"
        },
        "id": "kfeB2U6QjogZ",
        "outputId": "09e2463b-2eb8-489e-80ed-d043ce2a0d91"
      },
      "outputs": [
        {
          "output_type": "stream",
          "name": "stdout",
          "text": [
            "A5/1 Keystream Generator\n",
            "Enter the 19-bit register X: 101223\n",
            "Invalid input. Please enter exactly 19 bits (0 or 1).\n",
            "Enter the 19-bit register X: 1010110101100101010\n",
            "Enter the 22-bit register Y: 1110101010101011010101\n",
            "Enter the 23-bit register Z: 1101001\n",
            "Invalid input. Please enter exactly 23 bits (0 or 1).\n",
            "Enter the 23-bit register Z: 10100101010101011010100\n",
            "Enter the length of the keystream (N): 14\n",
            "Keystream: [0, 1, 0, 1, 1, 0, 0, 0, 1, 1, 1, 1, 1, 0]\n"
          ]
        }
      ],
      "source": [
        "def get_majority(x, y, z):\n",
        "    return (x & y) | (x & z) | (y & z)\n",
        "\n",
        "def shift_register(register, feedback_bit):\n",
        "    return [feedback_bit] + register[:-1]\n",
        "\n",
        "def generate_keystream(X, Y, Z, N):\n",
        "\n",
        "    X = X[:]\n",
        "    Y = Y[:]\n",
        "    Z = Z[:]\n",
        "    keystream = []\n",
        "\n",
        "    for _ in range(N):\n",
        "\n",
        "        majority_bit = get_majority(X[8], Y[10], Z[10])\n",
        "\n",
        "        if X[8] == majority_bit:\n",
        "            feedback_bit_X = X[13] ^ X[16] ^ X[17] ^ X[18]\n",
        "            X = shift_register(X, feedback_bit_X)\n",
        "\n",
        "        if Y[10] == majority_bit:\n",
        "            feedback_bit_Y = Y[20] ^ Y[21]\n",
        "            Y = shift_register(Y, feedback_bit_Y)\n",
        "\n",
        "        if Z[10] == majority_bit:\n",
        "            feedback_bit_Z = Z[7] ^ Z[20] ^ Z[21] ^ Z[22]\n",
        "            Z = shift_register(Z, feedback_bit_Z)\n",
        "\n",
        "\n",
        "        keystream_bit = X[18] ^ Y[21] ^ Z[22]\n",
        "        keystream.append(keystream_bit)\n",
        "\n",
        "    return keystream\n",
        "\n",
        "def input_register(name, length):\n",
        "    while True:\n",
        "        bits = input(f\"Enter the {length}-bit register {name}: \")\n",
        "        if len(bits) == length and all(bit in '01' for bit in bits):\n",
        "            return [int(bit) for bit in bits]\n",
        "        print(f\"Invalid input. Please enter exactly {length} bits (0 or 1).\")\n",
        "\n",
        "def main():\n",
        "    print(\"A5/1 Keystream Generator\")\n",
        "\n",
        "    X = input_register(\"X\", 19)\n",
        "    Y = input_register(\"Y\", 22)\n",
        "    Z = input_register(\"Z\", 23)\n",
        "\n",
        "    while True:\n",
        "        try:\n",
        "            N = int(input(\"Enter the length of the keystream (N): \"))\n",
        "            if N > 0:\n",
        "                break\n",
        "        except ValueError:\n",
        "            pass\n",
        "        print(\"Invalid input. Please enter a positive integer.\")\n",
        "\n",
        "    keystream = generate_keystream(X, Y, Z, N)\n",
        "    print(\"Keystream:\", keystream)\n",
        "\n",
        "if __name__ == \"__main__\":\n",
        "    main()\n",
        "\n",
        "# (x & y) | (x & z) | (y & z)\n",
        "# majority handled korsi jebhabe -\n",
        "# suppose x = 1, y = 0, z = 1\n",
        "# so, x & y = 0 , x & z = 1 , y & z = 0\n",
        "# together after xor operation -\n",
        "# (x & y) | (x & z) | (y & z) results in 1\n",
        "# 0 | 1 = 1\n",
        "# 1 | 0 = 1\n",
        "\n"
      ]
    },
    {
      "cell_type": "code",
      "source": [
        "a = [0]\n",
        "print (type(a))\n"
      ],
      "metadata": {
        "colab": {
          "base_uri": "https://localhost:8080/"
        },
        "id": "mAdmZRBMplAl",
        "outputId": "7a2cc354-767a-497d-972e-e6481737f583"
      },
      "execution_count": null,
      "outputs": [
        {
          "output_type": "stream",
          "name": "stdout",
          "text": [
            "<class 'list'>\n"
          ]
        }
      ]
    },
    {
      "cell_type": "code",
      "source": [],
      "metadata": {
        "id": "TBdbi8n_0SqG"
      },
      "execution_count": null,
      "outputs": []
    }
  ]
}