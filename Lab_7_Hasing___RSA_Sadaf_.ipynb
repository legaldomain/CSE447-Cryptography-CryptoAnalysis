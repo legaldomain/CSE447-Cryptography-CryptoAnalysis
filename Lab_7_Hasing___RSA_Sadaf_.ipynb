{
  "nbformat": 4,
  "nbformat_minor": 0,
  "metadata": {
    "colab": {
      "provenance": []
    },
    "kernelspec": {
      "name": "python3",
      "display_name": "Python 3"
    },
    "language_info": {
      "name": "python"
    }
  },
  "cells": [
    {
      "cell_type": "markdown",
      "source": [
        "# Hashing"
      ],
      "metadata": {
        "id": "JGfliRpGPNM8"
      }
    },
    {
      "cell_type": "code",
      "execution_count": null,
      "metadata": {
        "colab": {
          "base_uri": "https://localhost:8080/"
        },
        "id": "YrV9WshMpiyT",
        "outputId": "668596bd-d261-45b4-b368-3404257e206c"
      },
      "outputs": [
        {
          "output_type": "stream",
          "name": "stdout",
          "text": [
            "64ef07ce3e4b420c334227eecb3b3f4c\n",
            "b584eec728548aced5a66c0267dd520a00871b5e7b735b2d8202f86719f61857\n",
            "1dbb2224e5108b80246acacd67afa3304c023c467a4a5b4d3c3aaf97508ab11208b5635a7d759a7cacac4e688141dedb953030f364ceff54d9b7f34813e2ca20\n",
            "b804ec5a0d83d19d8db908572f51196505d09f98\n"
          ]
        }
      ],
      "source": [
        "import hashlib\n",
        "\n",
        "md5 = hashlib.md5(b'Cryptography')\n",
        "sha256 = hashlib.sha256(b'Cryptography')\n",
        "sha512 = hashlib.sha512(b'Cryptography')\n",
        "sha1 = hashlib.sha1(b'Cryptography')\n",
        "\n",
        "print(md5.hexdigest())\n",
        "print(sha256.hexdigest())\n",
        "print(sha512.hexdigest())\n",
        "print(sha1.hexdigest())"
      ]
    },
    {
      "cell_type": "markdown",
      "source": [
        "# Create MD5 Hash of a file"
      ],
      "metadata": {
        "id": "RLfgCsAGFFh9"
      }
    },
    {
      "cell_type": "code",
      "source": [
        "print(hashlib.md5(\"passlist.txt\".encode('UTF-8')).hexdigest())"
      ],
      "metadata": {
        "colab": {
          "base_uri": "https://localhost:8080/"
        },
        "id": "sjes1PbMDmVh",
        "outputId": "e852d432-a6de-412a-c1a5-592d2137a107"
      },
      "execution_count": null,
      "outputs": [
        {
          "output_type": "stream",
          "name": "stdout",
          "text": [
            "aaa96b80151e59ec5f389c55be30443a\n"
          ]
        }
      ]
    },
    {
      "cell_type": "code",
      "source": [
        "file_name = '/content/passlist.txt'\n",
        "\n",
        "with open(file_name) as f:\n",
        "    data = f.read()\n",
        "    md5hash = hashlib.md5(data.encode('UTF-8')).hexdigest()\n",
        "print(md5hash)"
      ],
      "metadata": {
        "colab": {
          "base_uri": "https://localhost:8080/"
        },
        "id": "X85RHo8HFMu4",
        "outputId": "11ac52ea-7b3b-41e7-9882-355b32ebd7ee"
      },
      "execution_count": null,
      "outputs": [
        {
          "output_type": "stream",
          "name": "stdout",
          "text": [
            "abf0076950fb6d72ae175f91581c3373\n"
          ]
        }
      ]
    },
    {
      "cell_type": "markdown",
      "source": [
        "# Task 1"
      ],
      "metadata": {
        "id": "YGfX02Z6JghK"
      }
    },
    {
      "cell_type": "code",
      "source": [
        "class Admin:\n",
        "\n",
        "  def __init__(self):\n",
        "    self.username = 'admin'\n",
        "    self.password = '8062dc84e0faa9e553192841432d4836208f700d43f3b68a53cc30ad4b7b3464'\n",
        "\n",
        "  def login(self,username,password):\n",
        "    if username == self.username and password == self.password:\n",
        "      return \"Login successful\"\n",
        "    else:\n",
        "      return \"Wrong password. Please try again\""
      ],
      "metadata": {
        "id": "QHlz-TqwC-5d"
      },
      "execution_count": null,
      "outputs": []
    },
    {
      "cell_type": "code",
      "source": [
        "user = Admin()\n",
        "user.login(\"admin\",\"8062dc84e0faa9e553192841432d4836208f700d43f3b68a53cc30ad4b7b3464\")"
      ],
      "metadata": {
        "colab": {
          "base_uri": "https://localhost:8080/",
          "height": 35
        },
        "id": "2v0RlwdgvSDV",
        "outputId": "7d2047f7-edbf-4a90-b640-503a94aaa8da"
      },
      "execution_count": null,
      "outputs": [
        {
          "output_type": "execute_result",
          "data": {
            "text/plain": [
              "'Login successful'"
            ],
            "application/vnd.google.colaboratory.intrinsic+json": {
              "type": "string"
            }
          },
          "metadata": {},
          "execution_count": 7
        }
      ]
    },
    {
      "cell_type": "markdown",
      "source": [
        "Your task is to find the plaintext password using dictionary attack.\n",
        "Download password list: https://drive.google.com/file/d/1tqoWvRJu1h1uOfsxXiJ6G_ccY6DdsV_9/view?usp=share_link"
      ],
      "metadata": {
        "id": "yAtkOtlwEfdE"
      }
    },
    {
      "cell_type": "code",
      "source": [
        "#Do it here\n",
        "import hashlib\n",
        "file_name='/content/passlist.txt'\n",
        "with open(file_name) as file:\n",
        "  data = file.read()\n",
        "  s = data.split()\n",
        "\n",
        "  for j in range(len(s)):\n",
        "    sha256hash = hashlib.sha256(s[j].encode('UTF-8')).hexdigest()\n",
        "    user = Admin()\n",
        "    if(user.login(\"admin\", sha256hash)== \"Login successful\"):\n",
        "        print(\"password is: \",s[j], \"which is in line\", j)\n",
        "    # else:\n",
        "    #   print(\"Password not found\")\n",
        "\n",
        "\n"
      ],
      "metadata": {
        "id": "-tQDprrcPUKa",
        "colab": {
          "base_uri": "https://localhost:8080/"
        },
        "outputId": "0374a017-f48b-4d69-b530-e251cc787618"
      },
      "execution_count": null,
      "outputs": [
        {
          "output_type": "stream",
          "name": "stdout",
          "text": [
            "password is:  B2bFmZZw9W56h2Z which is in line 8050\n"
          ]
        }
      ]
    },
    {
      "cell_type": "code",
      "source": [
        "\n",
        "\n"
      ],
      "metadata": {
        "id": "61QAAoO5hj-M"
      },
      "execution_count": null,
      "outputs": []
    }
  ]
}