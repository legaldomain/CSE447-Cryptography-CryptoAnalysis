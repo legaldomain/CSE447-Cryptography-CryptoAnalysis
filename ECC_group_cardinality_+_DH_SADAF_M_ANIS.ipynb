{
  "nbformat": 4,
  "nbformat_minor": 0,
  "metadata": {
    "colab": {
      "provenance": []
    },
    "kernelspec": {
      "name": "python3",
      "display_name": "Python 3"
    },
    "language_info": {
      "name": "python"
    }
  },
  "cells": [
    {
      "cell_type": "code",
      "execution_count": null,
      "metadata": {
        "colab": {
          "base_uri": "https://localhost:8080/"
        },
        "id": "WoRTZwVZja5_",
        "outputId": "b29373a5-f9d1-444c-85db-5f97657537c5"
      },
      "outputs": [
        {
          "output_type": "stream",
          "name": "stdout",
          "text": [
            "Point (7, 6) is valid on the curve y^2 = x^3  2x + 2 (mod 17)\n",
            "1P: (7, 6)\n",
            "2P: (5, 16)\n",
            "3P: (13, 7)\n",
            "4P: (6, 14)\n",
            "5P: (0, 6)\n",
            "6P: (10, 11)\n",
            "7P: (16, 13)\n",
            "8P: (3, 16)\n",
            "9P: (9, 16)\n",
            "10P: (9, 1)\n",
            "11P: (3, 1)\n",
            "12P: (16, 4)\n",
            "13P: (10, 6)\n",
            "14P: (0, 11)\n",
            "15P: (6, 3)\n",
            "16P: (13, 10)\n",
            "17P: (5, 1)\n",
            "18P: (7, 11)\n"
          ]
        }
      ],
      "source": [
        "def mod_inverse(a, N):\n",
        "    for x in range(1, N):\n",
        "        if (a * x) % N == 1:\n",
        "            return x\n",
        "    return None\n",
        "\n",
        "#task1\n",
        "def is_valid_point(x, y, a, b, N):\n",
        "    left = (y ** 2) % N\n",
        "    right = (x ** 3 + a * x + b) % N\n",
        "    return left == right\n",
        "\n",
        "# t2 ECC add\n",
        "def ecc_add(x1, y1, x2, y2, a, N):\n",
        "    if x1 == x2 and y1 == y2:\n",
        "        # Point doubling\n",
        "        m = (3 * x1**2 + a) * mod_inverse(2 * y1, N)\n",
        "    else:\n",
        "        # Point addition\n",
        "        m = (y2 - y1) * mod_inverse(x2 - x1, N)\n",
        "\n",
        "    m %= N\n",
        "\n",
        "    x3 = (m**2 - x1 - x2) % N\n",
        "    y3 = (m * (x1 - x3) - y1) % N\n",
        "\n",
        "    return x3, y3\n",
        "\n",
        "\n",
        "def find_group_cardinality(x1, y1, a, b, N):\n",
        "    P = (x1, y1)\n",
        "    initial_P = P\n",
        "    count = 1\n",
        "    result = [f\"{count}P: {P}\"]\n",
        "\n",
        "    while True:\n",
        "        count += 1\n",
        "        P = ecc_add(P[0], P[1], x1, y1, a, N)\n",
        "        result.append(f\"{count}P: {P}\")\n",
        "\n",
        "        if P[0] == initial_P[0]:\n",
        "            break\n",
        "\n",
        "    return result\n",
        "\n",
        "a =  2\n",
        "b = 2\n",
        "N = 17\n",
        "\n",
        "x1, y1 = 7,6\n",
        "\n",
        "if is_valid_point(x1, y1, a, b, N):\n",
        "    print(f\"Point ({x1}, {y1}) is valid on the curve y^2 = x^3  {a}x + {b} (mod {N})\")\n",
        "\n",
        "\n",
        "    results = find_group_cardinality(x1, y1, a, b, N)\n",
        "    for res in results:\n",
        "        print(res)\n",
        "else:\n",
        "    print(f\"Point ({x1}, {y1}) is NOT valid on the curve.\")"
      ]
    },
    {
      "cell_type": "code",
      "source": [
        "\n",
        "def diffie_hellman_shared_key(public_key, private_key, p):\n",
        "    return pow(public_key, private_key, p)\n",
        "\n",
        "# Take inputs from Alice and Bob\n",
        "a = int(input(\"Alice's private key (a): \"))\n",
        "b = int(input(\"Bob's private key (b): \"))\n",
        "g = int(input(\"Enter the common base (g): \"))\n",
        "p = int(input(\"Enter the prime number (p): \"))\n",
        "\n",
        "\n",
        "A = pow(g, a, p)\n",
        "print(f\"Alice's public key: {A}\")\n",
        "B = pow(g, b, p)\n",
        "print(f\"Bob's public key: {B}\")\n",
        "\n",
        "\n",
        "shared_key_alice = diffie_hellman_shared_key(B, a, p)\n",
        "shared_key_bob = diffie_hellman_shared_key(A, b, p)\n",
        "\n",
        "if shared_key_alice == shared_key_bob:\n",
        "    print(f\"Shared key is : {shared_key_alice}\")\n",
        "else:\n",
        "    print(\"Error: Shared keys do not match!\")\n"
      ],
      "metadata": {
        "colab": {
          "base_uri": "https://localhost:8080/"
        },
        "id": "Jm9jaHXCp3ac",
        "outputId": "ac7b2bae-b5f1-4935-d95c-c6fb4eca6d2a"
      },
      "execution_count": null,
      "outputs": [
        {
          "output_type": "stream",
          "name": "stdout",
          "text": [
            "Alice's private key (a): 5\n",
            "Bob's private key (b): 12\n",
            "Enter the common base (g): 2\n",
            "Enter the prime number (p): 29\n",
            "Alice's public key: 3\n",
            "Bob's public key: 7\n",
            "Shared key is : 16\n"
          ]
        }
      ]
    }
  ]
}